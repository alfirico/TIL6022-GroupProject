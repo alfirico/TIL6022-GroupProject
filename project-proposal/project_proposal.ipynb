{
 "cells": [
  {
   "cell_type": "markdown",
   "metadata": {},
   "source": [
    "# Project Group\n",
    "\n",
    "Members: Alfi Rico Davey, Artemis Kalapouti, Bo de Man, Mariana Julietti Pelozo, Thomas Mennill\n",
    "\n",
    "Student numbers: 6304419, 6223087, 5040213, 6304761, 6210139"
   ]
  },
  {
   "cell_type": "markdown",
   "metadata": {},
   "source": [
    "# Research Objective\n",
    "\n",
    "*Requires data modeling and quantitative research in Transport, Infrastructure & Logistics*"
   ]
  },
  {
   "cell_type": "markdown",
   "metadata": {},
   "source": [
    "To what extent did remote working affected traffic jams during weekdays on the Dutch highways, between the period of 2018 to 2023?\n",
    "\n",
    "Sub-questions:\n",
    "- How does the frequency of working from home vary across different weekdays?\n",
    "- How much did the pattern and the amount of people working remotely change in the period between 2018 to 2023?\n",
    "- How is this pattern reflected in data regarding traffic jams?"
   ]
  },
  {
   "cell_type": "markdown",
   "metadata": {},
   "source": [
    "# Contribution Statement\n",
    "\n",
    "*Be specific. Some of the tasks can be coding (expect everyone to do this), background research, conceptualisation, visualisation, data analysis, data modelling*"
   ]
  },
  {
   "cell_type": "markdown",
   "metadata": {},
   "source": [
    "**Programming:** \n",
    "\n",
    "Version control - Alfi \n",
    "\n",
    "Clean up traffic data - Bo\n",
    "\n",
    "Clean up commuting datasets - Alfi\n",
    "\n",
    "Analyze trends in traffic data - Thomas\n",
    "\n",
    "Analyze trends in commuting data - Mariana\n",
    "\n",
    "Visualize results - Artemis\n",
    "\n",
    "\n",
    "**Research & text:**\n",
    "\n",
    "Introduction - Artemis\n",
    "\n",
    "Background research - Bo\n",
    "\n",
    "Methods - Thomas\n",
    "\n",
    "Results analysis & interpretation - Mariana\n",
    "\n",
    "Conclusion - Alfi\n"
   ]
  },
  {
   "cell_type": "markdown",
   "metadata": {},
   "source": [
    "# Data Used"
   ]
  },
  {
   "cell_type": "markdown",
   "metadata": {},
   "source": [
    "Database for traffic jams: https://downloads.rijkswaterstaatdata.nl/filedata/ \n",
    "\n",
    "Database for daily average commute time and distance per weekday per travel purposes, from 2018 to 2023: https://opendata.cbs.nl/statline/#/CBS/en/dataset/85055eng/table?ts=1727687837173\n",
    "\n",
    "Database for daily average commute time and distance, separated by demographics, in the Netherlands from 2018: https://opendata.cbs.nl/#/CBS/en/dataset/84713ENG/table\n",
    "\n",
    "Average number of trips per weekday of commute, all modes of transport, 2018-2023: https://ec.europa.eu/eurostat/databrowser/product/page/lfsa_ehomp\n",
    "\n",
    "Fraction of transport modes: https://opendata.cbs.nl/statline/#/CBS/en/dataset/84710ENG/table?ts=1727863074020"
   ]
  },
  {
   "cell_type": "markdown",
   "metadata": {},
   "source": [
    "# Data Pipeline"
   ]
  },
  {
   "cell_type": "markdown",
   "metadata": {},
   "source": [
    "Filter the database based on the cause of the traffic jam (peak-hours, accidents, broken vehicle), considering only peak-hour jams.\n",
    "Utilize the data for 2018 and 2019 and compare to 2022 and 2023, in order to reduce the pandemics impacts on the results.\n",
    "\n",
    "Combine the average number of trips with the fraction of transport modes to get the amount of commutes by car per weekday per year. \n",
    "Utilize data from the same years to see the commute trends, hence drawing conclusions about remote working.\n",
    "\n",
    "This data combined can be used to see whether the trends in remote working can also be seen in peak-hour traffic jams. "
   ]
  }
 ],
 "metadata": {
  "kernelspec": {
   "display_name": "Python 3",
   "language": "python",
   "name": "python3"
  },
  "language_info": {
   "name": "python",
   "version": "3.8.2"
  },
  "orig_nbformat": 4,
  "vscode": {
   "interpreter": {
    "hash": "31f2aee4e71d21fbe5cf8b01ff0e069b9275f58929596ceb00d14d90e3e16cd6"
   }
  }
 },
 "nbformat": 4,
 "nbformat_minor": 2
}
