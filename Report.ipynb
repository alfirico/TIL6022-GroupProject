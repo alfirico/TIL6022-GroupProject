{
 "cells": [
  {
   "cell_type": "markdown",
   "metadata": {},
   "source": [
    "# Project Group\n",
    "\n",
    "Group 1\n",
    "\n",
    "Members: Alfi Rico Davey, Artemis Kalapouti, Bo de Man, Mariana Julietti Pelozo, Thomas Mennill\n",
    "\n",
    "Student numbers: 6304419, 6223087, 5040213, 6304761, 6210139"
   ]
  },
  {
   "cell_type": "markdown",
   "metadata": {},
   "source": [
    "# Research Objective\n"
   ]
  },
  {
   "cell_type": "markdown",
   "metadata": {},
   "source": [
    "Main Reaserch Question:\n",
    "- To what extent did remote working affected traffic jams during weekdays on the Dutch highways, between the period of 2018 to 2023?\n",
    "\n",
    "Sub-Questions:\n",
    "- How does the frequency of working from home vary across different weekdays?\n",
    "- How much did the pattern and the amount of people working remotely change in the period between 2018 to 2023?\n",
    "- How is this pattern reflected in data regarding traffic jams?"
   ]
  },
  {
   "cell_type": "markdown",
   "metadata": {},
   "source": [
    "# Introduction\n",
    "During the COVID-19 pandemic, traffic all around the world decreased and roads were nearly empty. After the pandemic, a lot of companies in the Netherlands allowed their employees to work from home (fully or partially). It would be expected that this has an influence on the traffic patterns. In the Netherlands Tuesdays and Thursdays are by far the busiest days for commuting trips (ANWB, 2023). This has been the same before the pandemic when most people went to the office five days a week, but interestingly ANWB stated that in 2023 the heaviness of traffic jams (the length times the duration) increased with 17% compared to earlier years. They say that the effect of remote working cannot be seen in the data regarding traffic jams (ANWB, 2023). In 2023, compared to 2019 there were 470.000 more cars on the roads which has impact on the traffic jams (NOS, 2023a), and a research from Kantar Public (NOS, 2023b) showed that there were more car movements on each day in 2023 compared to 2019. \n",
    "\n",
    "\n",
    "To further research this topic, data on commuting trips per person and traffic congestion were gathered. Then, cleaning and organizing the data took place, in order to achieve easier handling and analyzing of the emerging trends. Data was examined by weekday across four distinct years (2018, 2019, 2022, and 2023). Additionally, visualization of the results were created to facilitate comparison and draw meaningful conclusions. It is worth noting that data from the COVID-19 years (2020 and 2021) were excluded, as transportation activity dropped significantly during this period, rendering those results less relevant. \n"
   ]
  },
  {
   "cell_type": "markdown",
   "metadata": {},
   "source": [
    "# Methods\n",
    "\n",
    "The data used is from three sources. The first and by far the largest data set is a list of every time there was traffic congestion on Dutch motorways, in the years 2018, 2019, 2022, and 2023 and across every month. This dataset also contains information about the specific date and time of the traffic, the cause of the traffic, its location, and others. The second dataset includes all the commuting information, such as number of trips done per weekday per person, distance, or duration. These can be separated by travel purpose (such as commuting), region, demographics, etc. and contain the data from 2018 - 2023. Finally, the third dataset contains the travel mode fractions used by demographic and travel purpose per year.\n",
    "\n",
    "The first data set was the most complex to use. It is in Dutch, so it needed to be translated and was far too large to translate manually. It also contains data that was deemed irrelevant, such as traffic jams which had causes other than congestion. This dataset was initially processed by translating it to English and removing traffic jams which were not caused by peak hour congestion, as these are not related to commuting. The data set remained very large and the information unwieldy, so it then needed to be processed further. Two values were examined in the analysis. The first was a simple count of the number of traffic jams, divided by month and day of the week. For example, the count for all Mondays in a month is added up, along with each other day of the week. The database also contains a value called \"heaviness,\" which is simply the average length of the traffic jam multiplied by its duration and divided by 10^7. This heaviness value was deemed important because it allows a degree of understanding of the severity of each traffic jam. A traffic jam involving 15 cars has a much lower impact and is much less important than one involving 1000 cars, and the length and duration of the traffic jam allows for some understanding of each jam's severity relative to another. Thus, the heaviness was summed in a way similar to how the raw number of jams. This processing was done in the file \"Filter_and_translate_traffic_jam_data.py\" in the data-processing folder.\n",
    "\n",
    "The second and third data sets were combined into one. These datasets have the information on all the trips done in the period studied. This contains the purpose of travel, the amount of trips, distance, and duration of trips per weekday. There is also a separate dataset that contains information into the travel modes per purpose of travel per year. All of this information must be combined into a single dataset to know the amount of car trips done per weekday for commuting, per year.\n",
    "\n",
    "First, the yearly data is combined and irrelevant columns are removed. Then, from the third dataset, the fraction of car trips is extracted, and a final dataset is created with the final car trips per weekday for commuting (assuming the fraction of car trips is the same per weekday).\n",
    "The resulting commute data was then processed separately for general commute trips and car trips. For both categories, the data was filtered by the selected years and weekdays, average total trips were calculated, and the results were reorganized to present clearly the selected data. This processing was done in the file \"Filter_commuting_data.py\" in the data-processing folder.\n",
    "\n",
    "With all the data in a correct form, it was then processed to generate insights and graphs. \n"
   ]
  },
  {
   "cell_type": "markdown",
   "metadata": {},
   "source": [
    "# Data Used\n",
    "\n",
    "1. Traffic jam log per month: \n",
    "https://downloads.rijkswaterstaatdata.nl/filedata/ \n",
    "\n",
    "2. Daily average commute time and distance per weekday per travel purposes, from 2018 to 2023: \n",
    "https://opendata.cbs.nl/statline/#/CBS/en/dataset/85055eng/table?ts=1727687837173\n",
    "\n",
    "3. Fraction of transport modes: \n",
    "https://opendata.cbs.nl/statline/#/CBS/en/dataset/84710ENG/table?ts=1727863074020"
   ]
  },
  {
   "cell_type": "markdown",
   "metadata": {},
   "source": [
    "# Results analysis and interpretation\n",
    "\n",
    "The dataset for commuting generated the following graphs, presenting the average commute trips per person on each weekday for the selected years. The first graph represents all commuting trips (bicycles, cars, public transport), while the second shows only car trips. (Done in the files \"cartrip_commute_analysis.py\" and \"commute_analysis.py\" in the commute-analysis folder)\n",
    "\n",
    "![Figure 1](images/figure1.jpg)\n",
    "\n",
    "Both graphs reveal a similar pattern, with car trips representing, on average, about 50% of all commute trips. A declining trend in commuting trips (by car and general) from 2018 to 2019 can be observed, followed by a more pronounced reduction over the last two years - approximately a 20% decrease on average. This decline does not appear to be correlated with the unemployment rate, which was higher in 2018 (4.87%) and 2019 (4.45%) compared to 2022 (3.52%) and 2023 (3.55%) (CBS Statline, 2024). The data then suggests an increase in remote work post-pandemic, as more employees no longer need to commute to work every day.\n",
    "\n",
    "Additionally, during the last two years, commuting trips were most frequent on Tuesdays, followed by Thursdays, Mondays, Wednesdays, and Fridays. This pattern diverges from 2018 and 2019, when Mondays were as significant as or even more frequent than Thursdays. The slight shift reflects the current scenario among hybrid-schedule employees, who often avoid commuting on Mondays and Fridays.\n",
    "\n",
    "Regarding traffic jams, the dataset generated the following graph, showing the \"heaviness\" of congestion per weekday. (Done in the file \"heaviness_processing_and_graphing.py\" in the traffic-analysis folder)\n",
    "\n",
    "![Figure 2](images/figure2.jpeg)\n",
    "\n",
    "Analysing the graph, there is a noticeable rise tendency in traffic jam heaviness, with 2023 showing a particularly significant growth. Tuesdays and Thursdays present the highest levels of congestion across all four years, with 2023 showing somewhat closer congestion levels across other weekdays, with a slightly lighter traffic load on Fridays. Since traffic jam heaviness reflects both the length and duration of congestion, it’s possible to imply that there was an increase of car ownership or other contributing factor that boosted congestions in 2023.\n",
    "\n",
    "Although Tuesdays and Thurdays are the \"most frequent\" weekdays in both analysis, for 2023, the decreasing pattern seen in commuting trips is not reflected in traffic congestion trends. Also, average commuting trips increased by 4% in 2023 compared to 2022, which could indicate that companies are gradually encouraging more frequent in-office work."
   ]
  },
  {
   "cell_type": "markdown",
   "metadata": {},
   "source": [
    "# Conclusion\n",
    "\n",
    "The analysis shows that remote working has significantly impacted commuting patterns in the Netherlands from 2018 to 2023. There has been a notable decrease in the overall number of commuting trips, particularly by car, and a shift in their distribution across weekdays. Tuesdays and Thursdays have become the primary office days, while Mondays, Wednesdays, and Fridays see fewer commuters, reflecting the adoption of hybrid work schedules.\n",
    "\n",
    "However, despite the reduction in commuting trips due to remote working, traffic congestion on Dutch highways has not decreased. On the contrary, the \"heaviness\" of traffic jams has increased over the studied period, with 2023 showing a particularly significant rise. This indicates that remote working has not effectively reduced traffic jams during weekdays. Other factors appear to be contributing to the increased congestion, counteracting the potential positive effects of reduced commuting."
   ]
  },
  {
   "cell_type": "markdown",
   "metadata": {},
   "source": [
    "# Discussion\n",
    "\n",
    "The increase in traffic congestion despite fewer commuting trips suggests that factors other than commuting are contributing to the rise in traffic jams. For example, non-commuting trips may have increased due to changes in lifestyle, leading to more vehicles on the road during peak hours. Changes in travel behavior, such as more commute trips concentrated in big cities and on busy roads, could also result in more traffic jams despite a lower number of trips. Infrastructure limitations could play a role as well, with other modes of transport being prioritized or urban development and roadworks having significant effects.\n",
    "\n",
    "For a better understanding of the factors influencing traffic congestion, further research is necessary, as it has been shown that commuting patterns do not explain the full picture. Future studies could examine changes in other travel behaviors or analyze where traffic jams are occurring and their causes to better explain the rise in congestion."
   ]
  },
  {
   "cell_type": "markdown",
   "metadata": {},
   "source": [
    "# Contribution Statement"
   ]
  },
  {
   "cell_type": "markdown",
   "metadata": {},
   "source": [
    "**Programming:** \n",
    "\n",
    "Version control - Alfi \n",
    "\n",
    "Clean up traffic data - Bo\n",
    "\n",
    "Clean up commuting datasets - Alfi\n",
    "\n",
    "Analyze trends in traffic data - Thomas\n",
    "\n",
    "Analyze trends in commuting data - Mariana\n",
    "\n",
    "Visualize results - Artemis\n",
    "\n",
    "\n",
    "\n",
    "**Research & text:**\n",
    "\n",
    "Introduction - Artemis\n",
    "\n",
    "Background research - Bo\n",
    "\n",
    "Methods - Thomas\n",
    "\n",
    "Results analysis & interpretation - Mariana\n",
    "\n",
    "Conclusion - Alfi\n"
   ]
  },
  {
   "cell_type": "markdown",
   "metadata": {},
   "source": [
    "# References\n",
    "- ANWB. (2023, December 30). 17 procent meer files op de Nederlandse wegen in 2023. Retrieved October 23, 2024, from https://www.anwb.nl/verkeer/nieuws/nederland/2023/december/filezwaarte-2023\n",
    "- NOS. (2023a, April 2). ANWB: aantal files nu hoger dan voor corona. Retrieved October 23, 2024, from https://nos.nl/artikel/2469857-anwb-aantal-files-nu-hoger-dan-voor-corona\n",
    "- NOS. (2023b, June 15). Thuiswerken in strijd tegen files blijft lastig voor veel werknemers. Retrieved October 23, 2024, from https://nos.nl/artikel/2478981-thuiswerken-in-strijd-tegen-files-blijft-lastig-voor-veel-werknemers\n",
    "- CBS Statline. (2024, October 17). [Dataset]. Retrieved November 4, 2024, from https://opendata.cbs.nl/#/CBS/en/dataset/80590eng/table\n"
   ]
  }
 ],
 "metadata": {
  "kernelspec": {
   "display_name": "Python 3",
   "language": "python",
   "name": "python3"
  },
  "language_info": {
   "codemirror_mode": {
    "name": "ipython",
    "version": 3
   },
   "file_extension": ".py",
   "mimetype": "text/x-python",
   "name": "python",
   "nbconvert_exporter": "python",
   "pygments_lexer": "ipython3",
   "version": "3.8.5"
  },
  "vscode": {
   "interpreter": {
    "hash": "31f2aee4e71d21fbe5cf8b01ff0e069b9275f58929596ceb00d14d90e3e16cd6"
   }
  }
 },
 "nbformat": 4,
 "nbformat_minor": 2
}
